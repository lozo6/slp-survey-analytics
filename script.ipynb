{
 "cells": [
  {
   "cell_type": "code",
   "execution_count": 1,
   "metadata": {},
   "outputs": [],
   "source": [
    "import pandas as pd\n",
    "import numpy as np"
   ]
  },
  {
   "cell_type": "code",
   "execution_count": 2,
   "metadata": {},
   "outputs": [],
   "source": [
    "df = pd.read_csv('data/urduSLP.csv')"
   ]
  },
  {
   "cell_type": "code",
   "execution_count": 3,
   "metadata": {},
   "outputs": [
    {
     "data": {
      "text/plain": [
       "(3, 77)"
      ]
     },
     "execution_count": 3,
     "metadata": {},
     "output_type": "execute_result"
    }
   ],
   "source": [
    "df.shape"
   ]
  },
  {
   "cell_type": "code",
   "execution_count": 4,
   "metadata": {},
   "outputs": [
    {
     "name": "stdout",
     "output_type": "stream",
     "text": [
      "<class 'pandas.core.frame.DataFrame'>\n",
      "RangeIndex: 3 entries, 0 to 2\n",
      "Data columns (total 77 columns):\n",
      " #   Column                 Non-Null Count  Dtype \n",
      "---  ------                 --------------  ----- \n",
      " 0   StartDate              3 non-null      object\n",
      " 1   EndDate                3 non-null      object\n",
      " 2   Status                 3 non-null      object\n",
      " 3   IPAddress              3 non-null      object\n",
      " 4   Progress               3 non-null      object\n",
      " 5   Duration (in seconds)  3 non-null      object\n",
      " 6   Finished               3 non-null      object\n",
      " 7   RecordedDate           3 non-null      object\n",
      " 8   ResponseId             3 non-null      object\n",
      " 9   RecipientLastName      2 non-null      object\n",
      " 10  RecipientFirstName     2 non-null      object\n",
      " 11  RecipientEmail         2 non-null      object\n",
      " 12  ExternalReference      2 non-null      object\n",
      " 13  LocationLatitude       3 non-null      object\n",
      " 14  LocationLongitude      3 non-null      object\n",
      " 15  DistributionChannel    3 non-null      object\n",
      " 16  UserLanguage           3 non-null      object\n",
      " 17  Consent Form           3 non-null      object\n",
      " 18  Screening Question     3 non-null      object\n",
      " 19  Q2                     3 non-null      object\n",
      " 20  Q2_6_TEXT              2 non-null      object\n",
      " 21  Q3                     3 non-null      object\n",
      " 22  Q4                     3 non-null      object\n",
      " 23  Q4_7_TEXT              2 non-null      object\n",
      " 24  Q5                     3 non-null      object\n",
      " 25  Q5_8_TEXT              2 non-null      object\n",
      " 26  Q6                     3 non-null      object\n",
      " 27  Q7                     3 non-null      object\n",
      " 28  Q7_4_TEXT              2 non-null      object\n",
      " 29  Q8                     3 non-null      object\n",
      " 30  Q8_8_TEXT              2 non-null      object\n",
      " 31  Q9                     3 non-null      object\n",
      " 32  Q10                    3 non-null      object\n",
      " 33  Q10_3_TEXT             2 non-null      object\n",
      " 34  Q12                    3 non-null      object\n",
      " 35  Q13                    3 non-null      object\n",
      " 36  Q14                    3 non-null      object\n",
      " 37  Q14_1_TEXT             3 non-null      object\n",
      " 38  Q15                    3 non-null      object\n",
      " 39  Q16                    3 non-null      object\n",
      " 40  Q16_7_TEXT             2 non-null      object\n",
      " 41  Q17                    3 non-null      object\n",
      " 42  Q18                    3 non-null      object\n",
      " 43  Q19                    3 non-null      object\n",
      " 44  Q20                    2 non-null      object\n",
      " 45  Q21                    3 non-null      object\n",
      " 46  Q22                    2 non-null      object\n",
      " 47  Q23                    3 non-null      object\n",
      " 48  Q25                    2 non-null      object\n",
      " 49  Q26                    3 non-null      object\n",
      " 50  Q27                    3 non-null      object\n",
      " 51  Q28                    3 non-null      object\n",
      " 52  Q29                    3 non-null      object\n",
      " 53  Q30                    3 non-null      object\n",
      " 54  Q31                    2 non-null      object\n",
      " 55  Q32                    3 non-null      object\n",
      " 56  Q33                    3 non-null      object\n",
      " 57  Q34                    3 non-null      object\n",
      " 58  Q35                    3 non-null      object\n",
      " 59  Q36                    3 non-null      object\n",
      " 60  Q37                    2 non-null      object\n",
      " 61  Q38                    3 non-null      object\n",
      " 62  Q39                    3 non-null      object\n",
      " 63  Q40                    3 non-null      object\n",
      " 64  Q41                    3 non-null      object\n",
      " 65  Q42                    3 non-null      object\n",
      " 66  Q43                    3 non-null      object\n",
      " 67  Q44                    2 non-null      object\n",
      " 68  Q45                    3 non-null      object\n",
      " 69  Q46                    3 non-null      object\n",
      " 70  Q47                    3 non-null      object\n",
      " 71  Q48                    3 non-null      object\n",
      " 72  Q49                    2 non-null      object\n",
      " 73  Q50                    3 non-null      object\n",
      " 74  Q51                    3 non-null      object\n",
      " 75  Q52                    3 non-null      object\n",
      " 76  Q53                    3 non-null      object\n",
      "dtypes: object(77)\n",
      "memory usage: 1.9+ KB\n"
     ]
    }
   ],
   "source": [
    "df.info()"
   ]
  },
  {
   "cell_type": "code",
   "execution_count": 5,
   "metadata": {},
   "outputs": [
    {
     "data": {
      "text/plain": [
       "Index(['StartDate', 'EndDate', 'Status', 'IPAddress', 'Progress',\n",
       "       'Duration (in seconds)', 'Finished', 'RecordedDate', 'ResponseId',\n",
       "       'RecipientLastName', 'RecipientFirstName', 'RecipientEmail',\n",
       "       'ExternalReference', 'LocationLatitude', 'LocationLongitude',\n",
       "       'DistributionChannel', 'UserLanguage', 'Consent Form',\n",
       "       'Screening Question', 'Q2', 'Q2_6_TEXT', 'Q3', 'Q4', 'Q4_7_TEXT', 'Q5',\n",
       "       'Q5_8_TEXT', 'Q6', 'Q7', 'Q7_4_TEXT', 'Q8', 'Q8_8_TEXT', 'Q9', 'Q10',\n",
       "       'Q10_3_TEXT', 'Q12', 'Q13', 'Q14', 'Q14_1_TEXT', 'Q15', 'Q16',\n",
       "       'Q16_7_TEXT', 'Q17', 'Q18', 'Q19', 'Q20', 'Q21', 'Q22', 'Q23', 'Q25',\n",
       "       'Q26', 'Q27', 'Q28', 'Q29', 'Q30', 'Q31', 'Q32', 'Q33', 'Q34', 'Q35',\n",
       "       'Q36', 'Q37', 'Q38', 'Q39', 'Q40', 'Q41', 'Q42', 'Q43', 'Q44', 'Q45',\n",
       "       'Q46', 'Q47', 'Q48', 'Q49', 'Q50', 'Q51', 'Q52', 'Q53'],\n",
       "      dtype='object')"
      ]
     },
     "execution_count": 5,
     "metadata": {},
     "output_type": "execute_result"
    }
   ],
   "source": [
    "df.columns"
   ]
  },
  {
   "cell_type": "code",
   "execution_count": 6,
   "metadata": {},
   "outputs": [
    {
     "data": {
      "text/html": [
       "<div>\n",
       "<style scoped>\n",
       "    .dataframe tbody tr th:only-of-type {\n",
       "        vertical-align: middle;\n",
       "    }\n",
       "\n",
       "    .dataframe tbody tr th {\n",
       "        vertical-align: top;\n",
       "    }\n",
       "\n",
       "    .dataframe thead th {\n",
       "        text-align: right;\n",
       "    }\n",
       "</style>\n",
       "<table border=\"1\" class=\"dataframe\">\n",
       "  <thead>\n",
       "    <tr style=\"text-align: right;\">\n",
       "      <th></th>\n",
       "      <th>StartDate</th>\n",
       "      <th>EndDate</th>\n",
       "      <th>Status</th>\n",
       "      <th>IPAddress</th>\n",
       "      <th>Progress</th>\n",
       "      <th>Duration (in seconds)</th>\n",
       "      <th>Finished</th>\n",
       "      <th>RecordedDate</th>\n",
       "      <th>ResponseId</th>\n",
       "      <th>RecipientLastName</th>\n",
       "      <th>...</th>\n",
       "      <th>Q44</th>\n",
       "      <th>Q45</th>\n",
       "      <th>Q46</th>\n",
       "      <th>Q47</th>\n",
       "      <th>Q48</th>\n",
       "      <th>Q49</th>\n",
       "      <th>Q50</th>\n",
       "      <th>Q51</th>\n",
       "      <th>Q52</th>\n",
       "      <th>Q53</th>\n",
       "    </tr>\n",
       "  </thead>\n",
       "  <tbody>\n",
       "    <tr>\n",
       "      <th>2</th>\n",
       "      <td>2022-10-18 02:34:21</td>\n",
       "      <td>2022-10-18 02:45:50</td>\n",
       "      <td>0</td>\n",
       "      <td>67.85.21.60</td>\n",
       "      <td>100</td>\n",
       "      <td>688</td>\n",
       "      <td>1</td>\n",
       "      <td>2022-10-18 02:45:50</td>\n",
       "      <td>R_6YfKKXyOf849hLz</td>\n",
       "      <td>NaN</td>\n",
       "      <td>...</td>\n",
       "      <td>NaN</td>\n",
       "      <td>4</td>\n",
       "      <td>4</td>\n",
       "      <td>5</td>\n",
       "      <td>5</td>\n",
       "      <td>NaN</td>\n",
       "      <td>5</td>\n",
       "      <td>2</td>\n",
       "      <td>5</td>\n",
       "      <td>5</td>\n",
       "    </tr>\n",
       "  </tbody>\n",
       "</table>\n",
       "<p>1 rows × 77 columns</p>\n",
       "</div>"
      ],
      "text/plain": [
       "             StartDate              EndDate Status    IPAddress Progress  \\\n",
       "2  2022-10-18 02:34:21  2022-10-18 02:45:50      0  67.85.21.60      100   \n",
       "\n",
       "  Duration (in seconds) Finished         RecordedDate         ResponseId  \\\n",
       "2                   688        1  2022-10-18 02:45:50  R_6YfKKXyOf849hLz   \n",
       "\n",
       "  RecipientLastName  ...  Q44 Q45 Q46 Q47 Q48  Q49 Q50 Q51 Q52 Q53  \n",
       "2               NaN  ...  NaN   4   4   5   5  NaN   5   2   5   5  \n",
       "\n",
       "[1 rows x 77 columns]"
      ]
     },
     "execution_count": 6,
     "metadata": {},
     "output_type": "execute_result"
    }
   ],
   "source": [
    "new_df = df.drop([0,1])\n",
    "new_df"
   ]
  },
  {
   "cell_type": "code",
   "execution_count": 7,
   "metadata": {},
   "outputs": [],
   "source": [
    "drop_col = ['StartDate', 'EndDate', 'Status', 'IPAddress', 'Progress',\n",
    "        'Duration (in seconds)', 'Finished', 'RecordedDate', 'ResponseId',\n",
    "        'RecipientLastName', 'RecipientFirstName', 'RecipientEmail',\n",
    "        'ExternalReference', 'LocationLatitude', 'LocationLongitude',\n",
    "        'DistributionChannel', 'UserLanguage']"
   ]
  },
  {
   "cell_type": "code",
   "execution_count": 8,
   "metadata": {},
   "outputs": [
    {
     "data": {
      "text/html": [
       "<div>\n",
       "<style scoped>\n",
       "    .dataframe tbody tr th:only-of-type {\n",
       "        vertical-align: middle;\n",
       "    }\n",
       "\n",
       "    .dataframe tbody tr th {\n",
       "        vertical-align: top;\n",
       "    }\n",
       "\n",
       "    .dataframe thead th {\n",
       "        text-align: right;\n",
       "    }\n",
       "</style>\n",
       "<table border=\"1\" class=\"dataframe\">\n",
       "  <thead>\n",
       "    <tr style=\"text-align: right;\">\n",
       "      <th></th>\n",
       "      <th>Consent Form</th>\n",
       "      <th>Screening Question</th>\n",
       "      <th>Q2</th>\n",
       "      <th>Q2_6_TEXT</th>\n",
       "      <th>Q3</th>\n",
       "      <th>Q4</th>\n",
       "      <th>Q4_7_TEXT</th>\n",
       "      <th>Q5</th>\n",
       "      <th>Q5_8_TEXT</th>\n",
       "      <th>Q6</th>\n",
       "      <th>...</th>\n",
       "      <th>Q44</th>\n",
       "      <th>Q45</th>\n",
       "      <th>Q46</th>\n",
       "      <th>Q47</th>\n",
       "      <th>Q48</th>\n",
       "      <th>Q49</th>\n",
       "      <th>Q50</th>\n",
       "      <th>Q51</th>\n",
       "      <th>Q52</th>\n",
       "      <th>Q53</th>\n",
       "    </tr>\n",
       "  </thead>\n",
       "  <tbody>\n",
       "    <tr>\n",
       "      <th>2</th>\n",
       "      <td>1</td>\n",
       "      <td>1</td>\n",
       "      <td>2</td>\n",
       "      <td>NaN</td>\n",
       "      <td>3</td>\n",
       "      <td>5</td>\n",
       "      <td>NaN</td>\n",
       "      <td>2</td>\n",
       "      <td>NaN</td>\n",
       "      <td>1</td>\n",
       "      <td>...</td>\n",
       "      <td>NaN</td>\n",
       "      <td>4</td>\n",
       "      <td>4</td>\n",
       "      <td>5</td>\n",
       "      <td>5</td>\n",
       "      <td>NaN</td>\n",
       "      <td>5</td>\n",
       "      <td>2</td>\n",
       "      <td>5</td>\n",
       "      <td>5</td>\n",
       "    </tr>\n",
       "  </tbody>\n",
       "</table>\n",
       "<p>1 rows × 60 columns</p>\n",
       "</div>"
      ],
      "text/plain": [
       "  Consent Form Screening Question Q2 Q2_6_TEXT Q3 Q4 Q4_7_TEXT Q5 Q5_8_TEXT  \\\n",
       "2            1                  1  2       NaN  3  5       NaN  2       NaN   \n",
       "\n",
       "  Q6  ...  Q44 Q45 Q46 Q47 Q48  Q49 Q50 Q51 Q52 Q53  \n",
       "2  1  ...  NaN   4   4   5   5  NaN   5   2   5   5  \n",
       "\n",
       "[1 rows x 60 columns]"
      ]
     },
     "execution_count": 8,
     "metadata": {},
     "output_type": "execute_result"
    }
   ],
   "source": [
    "dropped_df = new_df.drop(drop_col, axis=1)\n",
    "dropped_df"
   ]
  },
  {
   "cell_type": "code",
   "execution_count": 9,
   "metadata": {},
   "outputs": [
    {
     "data": {
      "text/plain": [
       "Consent Form          0\n",
       "Screening Question    0\n",
       "Q2                    0\n",
       "Q2_6_TEXT             1\n",
       "Q3                    0\n",
       "Q4                    0\n",
       "Q4_7_TEXT             1\n",
       "Q5                    0\n",
       "Q5_8_TEXT             1\n",
       "Q6                    0\n",
       "Q7                    0\n",
       "Q7_4_TEXT             1\n",
       "Q8                    0\n",
       "Q8_8_TEXT             1\n",
       "Q9                    0\n",
       "Q10                   0\n",
       "Q10_3_TEXT            1\n",
       "Q12                   0\n",
       "Q13                   0\n",
       "Q14                   0\n",
       "Q14_1_TEXT            0\n",
       "Q15                   0\n",
       "Q16                   0\n",
       "Q16_7_TEXT            1\n",
       "Q17                   0\n",
       "Q18                   0\n",
       "Q19                   0\n",
       "Q20                   1\n",
       "Q21                   0\n",
       "Q22                   1\n",
       "Q23                   0\n",
       "Q25                   1\n",
       "Q26                   0\n",
       "Q27                   0\n",
       "Q28                   0\n",
       "Q29                   0\n",
       "Q30                   0\n",
       "Q31                   1\n",
       "Q32                   0\n",
       "Q33                   0\n",
       "Q34                   0\n",
       "Q35                   0\n",
       "Q36                   0\n",
       "Q37                   1\n",
       "Q38                   0\n",
       "Q39                   0\n",
       "Q40                   0\n",
       "Q41                   0\n",
       "Q42                   0\n",
       "Q43                   0\n",
       "Q44                   1\n",
       "Q45                   0\n",
       "Q46                   0\n",
       "Q47                   0\n",
       "Q48                   0\n",
       "Q49                   1\n",
       "Q50                   0\n",
       "Q51                   0\n",
       "Q52                   0\n",
       "Q53                   0\n",
       "dtype: int64"
      ]
     },
     "execution_count": 9,
     "metadata": {},
     "output_type": "execute_result"
    }
   ],
   "source": [
    "dropped_df.isnull().sum()"
   ]
  },
  {
   "cell_type": "code",
   "execution_count": 10,
   "metadata": {},
   "outputs": [],
   "source": [
    "dropped_df.replace(to_replace='', value=np.nan, inplace=True)\n",
    "dropped_df.replace(to_replace=' ', value=np.nan, inplace=True)"
   ]
  },
  {
   "cell_type": "code",
   "execution_count": 11,
   "metadata": {},
   "outputs": [
    {
     "data": {
      "text/plain": [
       "Index(['Consent Form', 'Screening Question', 'Q2', 'Q2_6_TEXT', 'Q3', 'Q4',\n",
       "       'Q4_7_TEXT', 'Q5', 'Q5_8_TEXT', 'Q6', 'Q7', 'Q7_4_TEXT', 'Q8',\n",
       "       'Q8_8_TEXT', 'Q9', 'Q10', 'Q10_3_TEXT', 'Q12', 'Q13', 'Q14',\n",
       "       'Q14_1_TEXT', 'Q15', 'Q16', 'Q16_7_TEXT', 'Q17', 'Q18', 'Q19', 'Q20',\n",
       "       'Q21', 'Q22', 'Q23', 'Q25', 'Q26', 'Q27', 'Q28', 'Q29', 'Q30', 'Q31',\n",
       "       'Q32', 'Q33', 'Q34', 'Q35', 'Q36', 'Q37', 'Q38', 'Q39', 'Q40', 'Q41',\n",
       "       'Q42', 'Q43', 'Q44', 'Q45', 'Q46', 'Q47', 'Q48', 'Q49', 'Q50', 'Q51',\n",
       "       'Q52', 'Q53'],\n",
       "      dtype='object')"
      ]
     },
     "execution_count": 11,
     "metadata": {},
     "output_type": "execute_result"
    }
   ],
   "source": [
    "dropped_df.columns"
   ]
  },
  {
   "cell_type": "code",
   "execution_count": 12,
   "metadata": {},
   "outputs": [
    {
     "data": {
      "text/html": [
       "<div>\n",
       "<style scoped>\n",
       "    .dataframe tbody tr th:only-of-type {\n",
       "        vertical-align: middle;\n",
       "    }\n",
       "\n",
       "    .dataframe tbody tr th {\n",
       "        vertical-align: top;\n",
       "    }\n",
       "\n",
       "    .dataframe thead th {\n",
       "        text-align: right;\n",
       "    }\n",
       "</style>\n",
       "<table border=\"1\" class=\"dataframe\">\n",
       "  <thead>\n",
       "    <tr style=\"text-align: right;\">\n",
       "      <th></th>\n",
       "      <th>Consent Form</th>\n",
       "      <th>Screening Question</th>\n",
       "      <th>Q2</th>\n",
       "      <th>Q2_6_TEXT</th>\n",
       "      <th>Q3</th>\n",
       "      <th>Q4</th>\n",
       "      <th>Q4_7_TEXT</th>\n",
       "      <th>Q5</th>\n",
       "      <th>Q5_8_TEXT</th>\n",
       "      <th>Q6</th>\n",
       "      <th>...</th>\n",
       "      <th>Q44</th>\n",
       "      <th>Q45</th>\n",
       "      <th>Q46</th>\n",
       "      <th>Q47</th>\n",
       "      <th>Q48</th>\n",
       "      <th>Q49</th>\n",
       "      <th>Q50</th>\n",
       "      <th>Q51</th>\n",
       "      <th>Q52</th>\n",
       "      <th>Q53</th>\n",
       "    </tr>\n",
       "  </thead>\n",
       "  <tbody>\n",
       "    <tr>\n",
       "      <th>2</th>\n",
       "      <td>1</td>\n",
       "      <td>1</td>\n",
       "      <td>2</td>\n",
       "      <td>NaN</td>\n",
       "      <td>3</td>\n",
       "      <td>5</td>\n",
       "      <td>NaN</td>\n",
       "      <td>2</td>\n",
       "      <td>NaN</td>\n",
       "      <td>1</td>\n",
       "      <td>...</td>\n",
       "      <td>NaN</td>\n",
       "      <td>4</td>\n",
       "      <td>4</td>\n",
       "      <td>5</td>\n",
       "      <td>5</td>\n",
       "      <td>NaN</td>\n",
       "      <td>5</td>\n",
       "      <td>2</td>\n",
       "      <td>5</td>\n",
       "      <td>5</td>\n",
       "    </tr>\n",
       "  </tbody>\n",
       "</table>\n",
       "<p>1 rows × 60 columns</p>\n",
       "</div>"
      ],
      "text/plain": [
       "  Consent Form Screening Question Q2 Q2_6_TEXT Q3 Q4 Q4_7_TEXT Q5 Q5_8_TEXT  \\\n",
       "2            1                  1  2       NaN  3  5       NaN  2       NaN   \n",
       "\n",
       "  Q6  ...  Q44 Q45 Q46 Q47 Q48  Q49 Q50 Q51 Q52 Q53  \n",
       "2  1  ...  NaN   4   4   5   5  NaN   5   2   5   5  \n",
       "\n",
       "[1 rows x 60 columns]"
      ]
     },
     "execution_count": 12,
     "metadata": {},
     "output_type": "execute_result"
    }
   ],
   "source": [
    "dropped_df"
   ]
  },
  {
   "cell_type": "code",
   "execution_count": 13,
   "metadata": {},
   "outputs": [],
   "source": [
    "ordered_df = dropped_df.reset_index()"
   ]
  },
  {
   "cell_type": "code",
   "execution_count": 14,
   "metadata": {},
   "outputs": [
    {
     "data": {
      "text/html": [
       "<div>\n",
       "<style scoped>\n",
       "    .dataframe tbody tr th:only-of-type {\n",
       "        vertical-align: middle;\n",
       "    }\n",
       "\n",
       "    .dataframe tbody tr th {\n",
       "        vertical-align: top;\n",
       "    }\n",
       "\n",
       "    .dataframe thead th {\n",
       "        text-align: right;\n",
       "    }\n",
       "</style>\n",
       "<table border=\"1\" class=\"dataframe\">\n",
       "  <thead>\n",
       "    <tr style=\"text-align: right;\">\n",
       "      <th></th>\n",
       "      <th>Consent Form</th>\n",
       "      <th>Screening Question</th>\n",
       "      <th>Q2</th>\n",
       "      <th>Q2_6_TEXT</th>\n",
       "      <th>Q3</th>\n",
       "      <th>Q4</th>\n",
       "      <th>Q4_7_TEXT</th>\n",
       "      <th>Q5</th>\n",
       "      <th>Q5_8_TEXT</th>\n",
       "      <th>Q6</th>\n",
       "      <th>...</th>\n",
       "      <th>Q44</th>\n",
       "      <th>Q45</th>\n",
       "      <th>Q46</th>\n",
       "      <th>Q47</th>\n",
       "      <th>Q48</th>\n",
       "      <th>Q49</th>\n",
       "      <th>Q50</th>\n",
       "      <th>Q51</th>\n",
       "      <th>Q52</th>\n",
       "      <th>Q53</th>\n",
       "    </tr>\n",
       "  </thead>\n",
       "  <tbody>\n",
       "    <tr>\n",
       "      <th>0</th>\n",
       "      <td>1</td>\n",
       "      <td>1</td>\n",
       "      <td>2</td>\n",
       "      <td>NaN</td>\n",
       "      <td>3</td>\n",
       "      <td>5</td>\n",
       "      <td>NaN</td>\n",
       "      <td>2</td>\n",
       "      <td>NaN</td>\n",
       "      <td>1</td>\n",
       "      <td>...</td>\n",
       "      <td>NaN</td>\n",
       "      <td>4</td>\n",
       "      <td>4</td>\n",
       "      <td>5</td>\n",
       "      <td>5</td>\n",
       "      <td>NaN</td>\n",
       "      <td>5</td>\n",
       "      <td>2</td>\n",
       "      <td>5</td>\n",
       "      <td>5</td>\n",
       "    </tr>\n",
       "  </tbody>\n",
       "</table>\n",
       "<p>1 rows × 60 columns</p>\n",
       "</div>"
      ],
      "text/plain": [
       "  Consent Form Screening Question Q2 Q2_6_TEXT Q3 Q4 Q4_7_TEXT Q5 Q5_8_TEXT  \\\n",
       "0            1                  1  2       NaN  3  5       NaN  2       NaN   \n",
       "\n",
       "  Q6  ...  Q44 Q45 Q46 Q47 Q48  Q49 Q50 Q51 Q52 Q53  \n",
       "0  1  ...  NaN   4   4   5   5  NaN   5   2   5   5  \n",
       "\n",
       "[1 rows x 60 columns]"
      ]
     },
     "execution_count": 14,
     "metadata": {},
     "output_type": "execute_result"
    }
   ],
   "source": [
    "ordered_df = ordered_df.drop(['index'], axis=1)\n",
    "ordered_df"
   ]
  },
  {
   "cell_type": "code",
   "execution_count": 15,
   "metadata": {},
   "outputs": [
    {
     "data": {
      "text/html": [
       "<div>\n",
       "<style scoped>\n",
       "    .dataframe tbody tr th:only-of-type {\n",
       "        vertical-align: middle;\n",
       "    }\n",
       "\n",
       "    .dataframe tbody tr th {\n",
       "        vertical-align: top;\n",
       "    }\n",
       "\n",
       "    .dataframe thead th {\n",
       "        text-align: right;\n",
       "    }\n",
       "</style>\n",
       "<table border=\"1\" class=\"dataframe\">\n",
       "  <thead>\n",
       "    <tr style=\"text-align: right;\">\n",
       "      <th></th>\n",
       "      <th>Consent Form</th>\n",
       "      <th>Screening Question</th>\n",
       "      <th>Q2</th>\n",
       "      <th>Q2_6_TEXT</th>\n",
       "      <th>Q3</th>\n",
       "      <th>Q4</th>\n",
       "      <th>Q4_7_TEXT</th>\n",
       "      <th>Q5</th>\n",
       "      <th>Q5_8_TEXT</th>\n",
       "      <th>Q6</th>\n",
       "      <th>...</th>\n",
       "      <th>Q44</th>\n",
       "      <th>Q45</th>\n",
       "      <th>Q46</th>\n",
       "      <th>Q47</th>\n",
       "      <th>Q48</th>\n",
       "      <th>Q49</th>\n",
       "      <th>Q50</th>\n",
       "      <th>Q51</th>\n",
       "      <th>Q52</th>\n",
       "      <th>Q53</th>\n",
       "    </tr>\n",
       "  </thead>\n",
       "  <tbody>\n",
       "    <tr>\n",
       "      <th>0</th>\n",
       "      <td>1</td>\n",
       "      <td>1</td>\n",
       "      <td>2</td>\n",
       "      <td>NaN</td>\n",
       "      <td>3</td>\n",
       "      <td>5</td>\n",
       "      <td>NaN</td>\n",
       "      <td>2</td>\n",
       "      <td>NaN</td>\n",
       "      <td>1</td>\n",
       "      <td>...</td>\n",
       "      <td>NaN</td>\n",
       "      <td>4</td>\n",
       "      <td>4</td>\n",
       "      <td>5</td>\n",
       "      <td>5</td>\n",
       "      <td>NaN</td>\n",
       "      <td>5</td>\n",
       "      <td>2</td>\n",
       "      <td>5</td>\n",
       "      <td>5</td>\n",
       "    </tr>\n",
       "  </tbody>\n",
       "</table>\n",
       "<p>1 rows × 60 columns</p>\n",
       "</div>"
      ],
      "text/plain": [
       "  Consent Form Screening Question Q2 Q2_6_TEXT Q3 Q4 Q4_7_TEXT Q5 Q5_8_TEXT  \\\n",
       "0            1                  1  2       NaN  3  5       NaN  2       NaN   \n",
       "\n",
       "  Q6  ...  Q44 Q45 Q46 Q47 Q48  Q49 Q50 Q51 Q52 Q53  \n",
       "0  1  ...  NaN   4   4   5   5  NaN   5   2   5   5  \n",
       "\n",
       "[1 rows x 60 columns]"
      ]
     },
     "execution_count": 15,
     "metadata": {},
     "output_type": "execute_result"
    }
   ],
   "source": [
    "# 44 not nan values\n",
    "true_df = ordered_df.dropna(thresh=44)\n",
    "true_df"
   ]
  },
  {
   "cell_type": "code",
   "execution_count": 16,
   "metadata": {},
   "outputs": [],
   "source": [
    "true_df.to_csv('data/newUrduSLP.csv')"
   ]
  }
 ],
 "metadata": {
  "kernelspec": {
   "display_name": "Python 3.9.4 64-bit ('3.9.4')",
   "language": "python",
   "name": "python3"
  },
  "language_info": {
   "codemirror_mode": {
    "name": "ipython",
    "version": 3
   },
   "file_extension": ".py",
   "mimetype": "text/x-python",
   "name": "python",
   "nbconvert_exporter": "python",
   "pygments_lexer": "ipython3",
   "version": "3.9.4"
  },
  "orig_nbformat": 4,
  "vscode": {
   "interpreter": {
    "hash": "d7acd4a37259ad5d2b666a2922f41a5265be84e746764324707d1f6f2bbaed6a"
   }
  }
 },
 "nbformat": 4,
 "nbformat_minor": 2
}
