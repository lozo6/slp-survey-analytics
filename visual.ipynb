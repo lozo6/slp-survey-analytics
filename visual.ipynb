{
 "cells": [
  {
   "cell_type": "code",
   "execution_count": 8,
   "metadata": {},
   "outputs": [],
   "source": [
    "import pandas as pd\n",
    "import numpy as np\n",
    "import seaborn as sns\n",
    "import matplotlib.pyplot as plt\n",
    "import plotly.express as px"
   ]
  },
  {
   "cell_type": "code",
   "execution_count": 9,
   "metadata": {},
   "outputs": [],
   "source": [
    "sns.set_theme(style='whitegrid')"
   ]
  },
  {
   "cell_type": "code",
   "execution_count": 25,
   "metadata": {},
   "outputs": [],
   "source": [
    "df = pd.read_csv('data/finalEnglishSLP1.csv')\n"
   ]
  },
  {
   "cell_type": "code",
   "execution_count": 27,
   "metadata": {},
   "outputs": [
    {
     "data": {
      "text/html": [
       "<div>\n",
       "<style scoped>\n",
       "    .dataframe tbody tr th:only-of-type {\n",
       "        vertical-align: middle;\n",
       "    }\n",
       "\n",
       "    .dataframe tbody tr th {\n",
       "        vertical-align: top;\n",
       "    }\n",
       "\n",
       "    .dataframe thead th {\n",
       "        text-align: right;\n",
       "    }\n",
       "</style>\n",
       "<table border=\"1\" class=\"dataframe\">\n",
       "  <thead>\n",
       "    <tr style=\"text-align: right;\">\n",
       "      <th></th>\n",
       "      <th>Unnamed: 0.1</th>\n",
       "      <th>Unnamed: 0</th>\n",
       "      <th>Q47</th>\n",
       "      <th>Q1</th>\n",
       "      <th>Q2</th>\n",
       "      <th>Q2_6_TEXT</th>\n",
       "      <th>Q3</th>\n",
       "      <th>Q4_1</th>\n",
       "      <th>Q4_2</th>\n",
       "      <th>Q4_3</th>\n",
       "      <th>...</th>\n",
       "      <th>Q38</th>\n",
       "      <th>Q39</th>\n",
       "      <th>Q40</th>\n",
       "      <th>Q41</th>\n",
       "      <th>Q42</th>\n",
       "      <th>Q43</th>\n",
       "      <th>Q44</th>\n",
       "      <th>Q45</th>\n",
       "      <th>Q46</th>\n",
       "      <th>Q4</th>\n",
       "    </tr>\n",
       "  </thead>\n",
       "  <tbody>\n",
       "    <tr>\n",
       "      <th>count</th>\n",
       "      <td>14.0000</td>\n",
       "      <td>14.000000</td>\n",
       "      <td>14.0</td>\n",
       "      <td>14.0</td>\n",
       "      <td>14.000000</td>\n",
       "      <td>0.0</td>\n",
       "      <td>14.000000</td>\n",
       "      <td>9.0</td>\n",
       "      <td>0.0</td>\n",
       "      <td>1.0</td>\n",
       "      <td>...</td>\n",
       "      <td>14.000000</td>\n",
       "      <td>14.000000</td>\n",
       "      <td>14.000000</td>\n",
       "      <td>14.000000</td>\n",
       "      <td>14.000000</td>\n",
       "      <td>14.000000</td>\n",
       "      <td>14.000000</td>\n",
       "      <td>14.000000</td>\n",
       "      <td>14.000000</td>\n",
       "      <td>14.000000</td>\n",
       "    </tr>\n",
       "    <tr>\n",
       "      <th>mean</th>\n",
       "      <td>6.5000</td>\n",
       "      <td>8.357143</td>\n",
       "      <td>1.0</td>\n",
       "      <td>1.0</td>\n",
       "      <td>1.785714</td>\n",
       "      <td>NaN</td>\n",
       "      <td>2.500000</td>\n",
       "      <td>1.0</td>\n",
       "      <td>NaN</td>\n",
       "      <td>3.0</td>\n",
       "      <td>...</td>\n",
       "      <td>1.500000</td>\n",
       "      <td>3.000000</td>\n",
       "      <td>2.142857</td>\n",
       "      <td>1.428571</td>\n",
       "      <td>1.928571</td>\n",
       "      <td>1.714286</td>\n",
       "      <td>2.785714</td>\n",
       "      <td>3.357143</td>\n",
       "      <td>4.642857</td>\n",
       "      <td>2.642857</td>\n",
       "    </tr>\n",
       "    <tr>\n",
       "      <th>std</th>\n",
       "      <td>4.1833</td>\n",
       "      <td>6.033332</td>\n",
       "      <td>0.0</td>\n",
       "      <td>0.0</td>\n",
       "      <td>0.425815</td>\n",
       "      <td>NaN</td>\n",
       "      <td>0.518875</td>\n",
       "      <td>0.0</td>\n",
       "      <td>NaN</td>\n",
       "      <td>NaN</td>\n",
       "      <td>...</td>\n",
       "      <td>0.650444</td>\n",
       "      <td>1.467599</td>\n",
       "      <td>1.027105</td>\n",
       "      <td>0.851631</td>\n",
       "      <td>0.828742</td>\n",
       "      <td>0.825420</td>\n",
       "      <td>1.050902</td>\n",
       "      <td>1.336306</td>\n",
       "      <td>0.497245</td>\n",
       "      <td>2.405351</td>\n",
       "    </tr>\n",
       "    <tr>\n",
       "      <th>min</th>\n",
       "      <td>0.0000</td>\n",
       "      <td>0.000000</td>\n",
       "      <td>1.0</td>\n",
       "      <td>1.0</td>\n",
       "      <td>1.000000</td>\n",
       "      <td>NaN</td>\n",
       "      <td>2.000000</td>\n",
       "      <td>1.0</td>\n",
       "      <td>NaN</td>\n",
       "      <td>3.0</td>\n",
       "      <td>...</td>\n",
       "      <td>1.000000</td>\n",
       "      <td>1.000000</td>\n",
       "      <td>1.000000</td>\n",
       "      <td>1.000000</td>\n",
       "      <td>1.000000</td>\n",
       "      <td>1.000000</td>\n",
       "      <td>1.000000</td>\n",
       "      <td>1.000000</td>\n",
       "      <td>4.000000</td>\n",
       "      <td>1.000000</td>\n",
       "    </tr>\n",
       "    <tr>\n",
       "      <th>25%</th>\n",
       "      <td>3.2500</td>\n",
       "      <td>3.500000</td>\n",
       "      <td>1.0</td>\n",
       "      <td>1.0</td>\n",
       "      <td>2.000000</td>\n",
       "      <td>NaN</td>\n",
       "      <td>2.000000</td>\n",
       "      <td>1.0</td>\n",
       "      <td>NaN</td>\n",
       "      <td>3.0</td>\n",
       "      <td>...</td>\n",
       "      <td>1.000000</td>\n",
       "      <td>2.000000</td>\n",
       "      <td>1.000000</td>\n",
       "      <td>1.000000</td>\n",
       "      <td>1.000000</td>\n",
       "      <td>1.000000</td>\n",
       "      <td>2.000000</td>\n",
       "      <td>3.000000</td>\n",
       "      <td>4.000000</td>\n",
       "      <td>1.000000</td>\n",
       "    </tr>\n",
       "    <tr>\n",
       "      <th>50%</th>\n",
       "      <td>6.5000</td>\n",
       "      <td>8.500000</td>\n",
       "      <td>1.0</td>\n",
       "      <td>1.0</td>\n",
       "      <td>2.000000</td>\n",
       "      <td>NaN</td>\n",
       "      <td>2.500000</td>\n",
       "      <td>1.0</td>\n",
       "      <td>NaN</td>\n",
       "      <td>3.0</td>\n",
       "      <td>...</td>\n",
       "      <td>1.000000</td>\n",
       "      <td>3.500000</td>\n",
       "      <td>2.000000</td>\n",
       "      <td>1.000000</td>\n",
       "      <td>2.000000</td>\n",
       "      <td>1.500000</td>\n",
       "      <td>2.500000</td>\n",
       "      <td>3.500000</td>\n",
       "      <td>5.000000</td>\n",
       "      <td>1.000000</td>\n",
       "    </tr>\n",
       "    <tr>\n",
       "      <th>75%</th>\n",
       "      <td>9.7500</td>\n",
       "      <td>11.750000</td>\n",
       "      <td>1.0</td>\n",
       "      <td>1.0</td>\n",
       "      <td>2.000000</td>\n",
       "      <td>NaN</td>\n",
       "      <td>3.000000</td>\n",
       "      <td>1.0</td>\n",
       "      <td>NaN</td>\n",
       "      <td>3.0</td>\n",
       "      <td>...</td>\n",
       "      <td>2.000000</td>\n",
       "      <td>4.000000</td>\n",
       "      <td>3.000000</td>\n",
       "      <td>1.750000</td>\n",
       "      <td>2.750000</td>\n",
       "      <td>2.000000</td>\n",
       "      <td>4.000000</td>\n",
       "      <td>4.000000</td>\n",
       "      <td>5.000000</td>\n",
       "      <td>5.000000</td>\n",
       "    </tr>\n",
       "    <tr>\n",
       "      <th>max</th>\n",
       "      <td>13.0000</td>\n",
       "      <td>21.000000</td>\n",
       "      <td>1.0</td>\n",
       "      <td>1.0</td>\n",
       "      <td>2.000000</td>\n",
       "      <td>NaN</td>\n",
       "      <td>3.000000</td>\n",
       "      <td>1.0</td>\n",
       "      <td>NaN</td>\n",
       "      <td>3.0</td>\n",
       "      <td>...</td>\n",
       "      <td>3.000000</td>\n",
       "      <td>5.000000</td>\n",
       "      <td>4.000000</td>\n",
       "      <td>4.000000</td>\n",
       "      <td>3.000000</td>\n",
       "      <td>3.000000</td>\n",
       "      <td>4.000000</td>\n",
       "      <td>5.000000</td>\n",
       "      <td>5.000000</td>\n",
       "      <td>8.000000</td>\n",
       "    </tr>\n",
       "  </tbody>\n",
       "</table>\n",
       "<p>8 rows × 58 columns</p>\n",
       "</div>"
      ],
      "text/plain": [
       "       Unnamed: 0.1  Unnamed: 0   Q47    Q1         Q2  Q2_6_TEXT         Q3  \\\n",
       "count       14.0000   14.000000  14.0  14.0  14.000000        0.0  14.000000   \n",
       "mean         6.5000    8.357143   1.0   1.0   1.785714        NaN   2.500000   \n",
       "std          4.1833    6.033332   0.0   0.0   0.425815        NaN   0.518875   \n",
       "min          0.0000    0.000000   1.0   1.0   1.000000        NaN   2.000000   \n",
       "25%          3.2500    3.500000   1.0   1.0   2.000000        NaN   2.000000   \n",
       "50%          6.5000    8.500000   1.0   1.0   2.000000        NaN   2.500000   \n",
       "75%          9.7500   11.750000   1.0   1.0   2.000000        NaN   3.000000   \n",
       "max         13.0000   21.000000   1.0   1.0   2.000000        NaN   3.000000   \n",
       "\n",
       "       Q4_1  Q4_2  Q4_3  ...        Q38        Q39        Q40        Q41  \\\n",
       "count   9.0   0.0   1.0  ...  14.000000  14.000000  14.000000  14.000000   \n",
       "mean    1.0   NaN   3.0  ...   1.500000   3.000000   2.142857   1.428571   \n",
       "std     0.0   NaN   NaN  ...   0.650444   1.467599   1.027105   0.851631   \n",
       "min     1.0   NaN   3.0  ...   1.000000   1.000000   1.000000   1.000000   \n",
       "25%     1.0   NaN   3.0  ...   1.000000   2.000000   1.000000   1.000000   \n",
       "50%     1.0   NaN   3.0  ...   1.000000   3.500000   2.000000   1.000000   \n",
       "75%     1.0   NaN   3.0  ...   2.000000   4.000000   3.000000   1.750000   \n",
       "max     1.0   NaN   3.0  ...   3.000000   5.000000   4.000000   4.000000   \n",
       "\n",
       "             Q42        Q43        Q44        Q45        Q46         Q4  \n",
       "count  14.000000  14.000000  14.000000  14.000000  14.000000  14.000000  \n",
       "mean    1.928571   1.714286   2.785714   3.357143   4.642857   2.642857  \n",
       "std     0.828742   0.825420   1.050902   1.336306   0.497245   2.405351  \n",
       "min     1.000000   1.000000   1.000000   1.000000   4.000000   1.000000  \n",
       "25%     1.000000   1.000000   2.000000   3.000000   4.000000   1.000000  \n",
       "50%     2.000000   1.500000   2.500000   3.500000   5.000000   1.000000  \n",
       "75%     2.750000   2.000000   4.000000   4.000000   5.000000   5.000000  \n",
       "max     3.000000   3.000000   4.000000   5.000000   5.000000   8.000000  \n",
       "\n",
       "[8 rows x 58 columns]"
      ]
     },
     "execution_count": 27,
     "metadata": {},
     "output_type": "execute_result"
    }
   ],
   "source": [
    "df.describe()"
   ]
  },
  {
   "cell_type": "code",
   "execution_count": 31,
   "metadata": {},
   "outputs": [],
   "source": [
    "ethnicity_df = df['Q4'].value_counts()"
   ]
  },
  {
   "cell_type": "code",
   "execution_count": 32,
   "metadata": {},
   "outputs": [
    {
     "data": {
      "text/plain": [
       "1.0    9\n",
       "5.0    4\n",
       "8.0    1\n",
       "Name: Q4, dtype: int64"
      ]
     },
     "execution_count": 32,
     "metadata": {},
     "output_type": "execute_result"
    }
   ],
   "source": [
    "ethnicity_df"
   ]
  },
  {
   "cell_type": "code",
   "execution_count": 36,
   "metadata": {},
   "outputs": [
    {
     "data": {
      "text/plain": [
       "([<matplotlib.patches.Wedge at 0x7fc9e6af42e0>,\n",
       "  <matplotlib.patches.Wedge at 0x7fc9e6af49a0>,\n",
       "  <matplotlib.patches.Wedge at 0x7fc9e6a83070>],\n",
       " [Text(-0.47727208651780745, 0.9910657674599294, 'White/Caucasian'),\n",
       "  Text(0.2447730130080494, -1.0724207066739067, 'Asian or Pacific Islander'),\n",
       "  Text(1.0724207124032321, -0.2447729879062318, 'Prefer Not to Answer')],\n",
       " [Text(-0.26033022900971314, 0.5405813277054159, '64.3%'),\n",
       "  Text(0.13351255254984512, -0.5849567490948582, '28.6%'),\n",
       "  Text(0.5849567522199447, -0.13351253885794462, '7.1%')])"
      ]
     },
     "execution_count": 36,
     "metadata": {},
     "output_type": "execute_result"
    },
    {
     "data": {
      "image/png": "[encoded data removed]",
      "text/plain": [
       "<Figure size 640x480 with 1 Axes>"
      ]
     },
     "metadata": {},
     "output_type": "display_data"
    }
   ],
   "source": [
    "labels = ['White/Caucasian', 'Asian or Pacific Islander', 'Prefer Not to Answer']\n",
    "plt.pie(ethnicity_df, labels=labels, colors=sns.color_palette('pastel'), autopct='%1.1f%%')"
   ]
  },
  {
   "cell_type": "code",
   "execution_count": 37,
   "metadata": {},
   "outputs": [],
   "source": [
    "questions = ['Q23', 'Q25', 'Q26', 'Q27', 'Q28', 'Q29', 'Q30', 'Q31',\n",
    "       'Q32', 'Q33', 'Q34', 'Q35', 'Q36', 'Q37', 'Q38', 'Q39', 'Q40', 'Q41',\n",
    "       'Q42', 'Q43', 'Q44', 'Q45', 'Q46']"
   ]
  },
  {
   "cell_type": "code",
   "execution_count": 61,
   "metadata": {},
   "outputs": [
    {
     "data": {
      "text/plain": [
       "1    9\n",
       "3    3\n",
       "5    1\n",
       "2    1\n",
       "Name: Q17, dtype: int64"
      ]
     },
     "execution_count": 61,
     "metadata": {},
     "output_type": "execute_result"
    }
   ],
   "source": [
    "children_count = df['Q17'].value_counts()\n",
    "children_count"
   ]
  },
  {
   "cell_type": "code",
   "execution_count": null,
   "metadata": {},
   "outputs": [],
   "source": []
  }
 ],
 "metadata": {
  "kernelspec": {
   "display_name": "Python 3.9.4 64-bit ('3.9.4')",
   "language": "python",
   "name": "python3"
  },
  "language_info": {
   "codemirror_mode": {
    "name": "ipython",
    "version": 3
   },
   "file_extension": ".py",
   "mimetype": "text/x-python",
   "name": "python",
   "nbconvert_exporter": "python",
   "pygments_lexer": "ipython3",
   "version": "3.9.4"
  },
  "orig_nbformat": 4,
  "vscode": {
   "interpreter": {
    "hash": "37340cb2cee7de9819ffb4e8b8b7482e56d9d2d1b9a5eb5e00ee1758d5be559d"
   }
  }
 },
 "nbformat": 4,
 "nbformat_minor": 2
}
